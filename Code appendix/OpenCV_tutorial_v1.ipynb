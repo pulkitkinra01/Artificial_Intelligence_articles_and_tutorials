{
 "cells": [
  {
   "cell_type": "markdown",
   "metadata": {},
   "source": [
    "# OpenCV tutorial on Jupyter Notebook"
   ]
  },
  {
   "cell_type": "markdown",
   "metadata": {},
   "source": [
    "## Import modules"
   ]
  },
  {
   "cell_type": "code",
   "execution_count": null,
   "metadata": {},
   "outputs": [],
   "source": [
    "import cv2\n",
    "print(cv2.__version__)\n",
    "import os\n",
    "import numpy as np\n",
    "print(np.__version__)"
   ]
  },
  {
   "cell_type": "markdown",
   "metadata": {},
   "source": [
    "## Handling Images"
   ]
  },
  {
   "cell_type": "code",
   "execution_count": null,
   "metadata": {},
   "outputs": [],
   "source": [
    "image_path = os.path.join('..','images','opencv_SeanProfile.jpg')"
   ]
  },
  {
   "cell_type": "code",
   "execution_count": null,
   "metadata": {},
   "outputs": [],
   "source": [
    "img = cv2.imread(image_path,1)"
   ]
  },
  {
   "cell_type": "markdown",
   "metadata": {},
   "source": [
    "### Loading, processing, writing"
   ]
  },
  {
   "cell_type": "code",
   "execution_count": null,
   "metadata": {},
   "outputs": [],
   "source": [
    "# loading image\n",
    "img = cv2.imread(image_path,1)\n",
    "# displaying image\n",
    "cv2.imshow('image',img) #Image appears and disappear automatically\n",
    "# display the image indefinetely until the keyboard input (any key)\n",
    "cv2.waitKey(0)\n",
    "# distroy all opened windows\n",
    "cv2.destroyAllWindows()\n",
    "cv2.waitKey(1) # in order to close the opened window --> does not close \n",
    "# Convert the image to gray\n",
    "img = cv2.cvtColor(img,cv2.COLOR_BGR2GRAY)\n",
    "# saving image\n",
    "cv2.imwrite(os.path.join('..','images','open_cv_conv_gray.png'),img)"
   ]
  },
  {
   "cell_type": "markdown",
   "metadata": {},
   "source": [
    "### Obtain properties of the image"
   ]
  },
  {
   "cell_type": "code",
   "execution_count": null,
   "metadata": {},
   "outputs": [],
   "source": [
    "img = cv2.imread(image_path,1)\n",
    "rows,cols,channel = img.shape\n",
    "print(img.shape) # height (rows), width (cols), channel\n",
    "print('image height (rows): {}\\nimage width (cols): {}\\nimage channel: {}'.format(rows,cols,channel))"
   ]
  },
  {
   "cell_type": "markdown",
   "metadata": {},
   "source": [
    "### Resizing"
   ]
  },
  {
   "cell_type": "code",
   "execution_count": null,
   "metadata": {},
   "outputs": [],
   "source": [
    "img = cv2.imread(image_path,1)\n",
    "img = cv2.resize(img,(700,400)) # width (cols) and height (rows)\n",
    "print(img.shape)\n",
    "cv2.imshow('image',img) \n",
    "cv2.waitKey(0)\n",
    "cv2.destroyAllWindows()\n",
    "cv2.waitKey(1)\n",
    "cv2.imwrite(os.path.join('..','images','opencv_resized_example.png'),img)"
   ]
  },
  {
   "cell_type": "markdown",
   "metadata": {},
   "source": [
    "### Insert geometric shapes on the image"
   ]
  },
  {
   "cell_type": "code",
   "execution_count": null,
   "metadata": {},
   "outputs": [],
   "source": [
    "img = cv2.imread(image_path,1)\n",
    "cv2.line(img,(0,0),(100,100),(255,0,255),2)\n",
    "cv2.circle(img,(300,300),50,(0,255,255),5)\n",
    "cv2.circle(img,(100,450),30,(100,100,255),-1)\n",
    "cv2.rectangle(img,(200,600),(450,700),(255,100,100),5)\n",
    "cv2.arrowedLine(img,(300,200),(500,200),(0,0,255),6)\n",
    "cv2.imshow('image',img) \n",
    "cv2.waitKey(0)\n",
    "cv2.destroyAllWindows()\n",
    "cv2.waitKey(1)\n",
    "cv2.imwrite(os.path.join('..','images','opencv_shapes_example.png'),img)"
   ]
  },
  {
   "cell_type": "markdown",
   "metadata": {},
   "source": [
    "### Find pixel coordinate of the image"
   ]
  },
  {
   "cell_type": "code",
   "execution_count": null,
   "metadata": {
    "scrolled": false
   },
   "outputs": [],
   "source": [
    "def on_click(c_event,x,y,flags,param):\n",
    "\n",
    "    if c_event == cv2.EVENT_LBUTTONDOWN:\n",
    "        text = '({},{})'.format(x,y)\n",
    "        cv2.circle(img,(x,y),5,(0,0,255),-1)\n",
    "        cv2.line(img,(x,0),(x,rows),(0,0,255),1,4)\n",
    "        cv2.line(img,(0,y),(cols,y),(0,0,255),1,4)\n",
    "        cv2.putText(img,text,(x+10,y),cv2.FONT_HERSHEY_PLAIN,1.5,(0,0,255),2,cv2.LINE_AA)\n",
    "        cv2.imshow('image',img)\n",
    "        \n",
    "img = cv2.imread(image_path,1)\n",
    "cv2.namedWindow('image')\n",
    "clean_img = img.copy()\n",
    "cv2.setMouseCallback('image',on_click)\n",
    "\n",
    "while True:\n",
    "    cv2.imshow('image',img)  \n",
    "    key = cv2.waitKey(1) & 0xFF    \n",
    "    if key == ord('r'):\n",
    "        img = clean_img.copy()\n",
    "    if key == ord('q'):\n",
    "        break\n",
    "cv2.destroyAllWindows()\n",
    "cv2.waitKey(1)\n",
    "cv2.imwrite(os.path.join('..','images','opencv_getting_coord_example.png'),img)"
   ]
  },
  {
   "cell_type": "code",
   "execution_count": null,
   "metadata": {},
   "outputs": [],
   "source": []
  },
  {
   "cell_type": "code",
   "execution_count": null,
   "metadata": {},
   "outputs": [],
   "source": []
  },
  {
   "cell_type": "code",
   "execution_count": null,
   "metadata": {},
   "outputs": [],
   "source": []
  },
  {
   "cell_type": "code",
   "execution_count": null,
   "metadata": {},
   "outputs": [],
   "source": []
  },
  {
   "cell_type": "code",
   "execution_count": null,
   "metadata": {},
   "outputs": [],
   "source": []
  },
  {
   "cell_type": "code",
   "execution_count": null,
   "metadata": {},
   "outputs": [],
   "source": []
  }
 ],
 "metadata": {
  "kernelspec": {
   "display_name": "Python 3",
   "language": "python",
   "name": "python3"
  },
  "language_info": {
   "codemirror_mode": {
    "name": "ipython",
    "version": 3
   },
   "file_extension": ".py",
   "mimetype": "text/x-python",
   "name": "python",
   "nbconvert_exporter": "python",
   "pygments_lexer": "ipython3",
   "version": "3.5.6"
  }
 },
 "nbformat": 4,
 "nbformat_minor": 2
}
