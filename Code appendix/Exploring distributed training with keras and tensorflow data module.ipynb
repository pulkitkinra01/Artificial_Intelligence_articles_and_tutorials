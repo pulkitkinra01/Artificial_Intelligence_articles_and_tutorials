{
 "cells": [
  {
   "cell_type": "code",
   "execution_count": 1,
   "metadata": {},
   "outputs": [],
   "source": [
    "import tensorflow as tf\n",
    "import numpy as np"
   ]
  },
  {
   "cell_type": "code",
   "execution_count": 2,
   "metadata": {},
   "outputs": [],
   "source": [
    "epochs = 10\n",
    "batch = 256"
   ]
  },
  {
   "cell_type": "code",
   "execution_count": 3,
   "metadata": {},
   "outputs": [],
   "source": [
    "def build_cnn():\n",
    "    inputs = tf.keras.Input(shape=(28,28,1))\n",
    "    x = tf.keras.layers.Conv2D(8,(3,3),padding='same',activation='relu')(inputs)\n",
    "    x = tf.keras.layers.Flatten()(x)\n",
    "    outputs = tf.keras.layers.Dense(10,activation='softmax')(x)\n",
    "    model = tf.keras.Model(inputs,outputs)\n",
    "    return model"
   ]
  },
  {
   "cell_type": "markdown",
   "metadata": {},
   "source": [
    "## Using numpy array as inputs"
   ]
  },
  {
   "cell_type": "code",
   "execution_count": 4,
   "metadata": {},
   "outputs": [
    {
     "name": "stdout",
     "output_type": "stream",
     "text": [
      "WARNING:tensorflow:From /Users/seanchoi/anaconda3/envs/cv/lib/python3.6/site-packages/tensorflow/python/ops/init_ops.py:1251: calling VarianceScaling.__init__ (from tensorflow.python.ops.init_ops) with dtype is deprecated and will be removed in a future version.\n",
      "Instructions for updating:\n",
      "Call initializer instance with the dtype argument instead of passing it to the constructor\n",
      "Train on 60000 samples, validate on 10000 samples\n",
      "Epoch 1/10\n",
      "60000/60000 - 2s - loss: 0.4546 - acc: 0.8805 - val_loss: 0.2198 - val_acc: 0.9382\n",
      "Epoch 2/10\n",
      "60000/60000 - 2s - loss: 0.1915 - acc: 0.9468 - val_loss: 0.1539 - val_acc: 0.9569\n",
      "Epoch 3/10\n",
      "60000/60000 - 2s - loss: 0.1375 - acc: 0.9621 - val_loss: 0.1174 - val_acc: 0.9663\n",
      "Epoch 4/10\n",
      "60000/60000 - 2s - loss: 0.1105 - acc: 0.9700 - val_loss: 0.1022 - val_acc: 0.9704\n",
      "Epoch 5/10\n",
      "60000/60000 - 2s - loss: 0.0929 - acc: 0.9743 - val_loss: 0.0925 - val_acc: 0.9726\n",
      "Epoch 6/10\n",
      "60000/60000 - 2s - loss: 0.0807 - acc: 0.9782 - val_loss: 0.0823 - val_acc: 0.9746\n",
      "Epoch 7/10\n",
      "60000/60000 - 2s - loss: 0.0699 - acc: 0.9807 - val_loss: 0.0803 - val_acc: 0.9753\n",
      "Epoch 8/10\n",
      "60000/60000 - 2s - loss: 0.0636 - acc: 0.9822 - val_loss: 0.0726 - val_acc: 0.9781\n",
      "Epoch 9/10\n",
      "60000/60000 - 2s - loss: 0.0567 - acc: 0.9844 - val_loss: 0.0738 - val_acc: 0.9769\n",
      "Epoch 10/10\n",
      "60000/60000 - 2s - loss: 0.0514 - acc: 0.9855 - val_loss: 0.0665 - val_acc: 0.9787\n"
     ]
    },
    {
     "data": {
      "text/plain": [
       "<tensorflow.python.keras.callbacks.History at 0x62c6eae80>"
      ]
     },
     "execution_count": 4,
     "metadata": {},
     "output_type": "execute_result"
    }
   ],
   "source": [
    "(X_train_1,y_train_1),(X_test_1,y_test_1) = tf.keras.datasets.mnist.load_data()\n",
    "X_train_1 = X_train_1.astype(np.float32)/255.\n",
    "X_train_1 = np.expand_dims(X_train_1,axis=-1)\n",
    "X_test_1 = X_test_1.astype(np.float32)/255.\n",
    "X_test_1 = np.expand_dims(X_test_1,axis=-1)\n",
    "y_train_1 = tf.keras.utils.to_categorical(y_train_1,10)\n",
    "y_test_1 = tf.keras.utils.to_categorical(y_test_1,10)\n",
    "\n",
    "model_1 = build_cnn()\n",
    "model_1.compile(loss='categorical_crossentropy',optimizer='adam',metrics=['accuracy'])\n",
    "model_1.fit(X_train_1,y_train_1,epochs=epochs,batch_size=batch,validation_data=(X_test_1,y_test_1),verbose=2)"
   ]
  },
  {
   "cell_type": "code",
   "execution_count": 5,
   "metadata": {},
   "outputs": [
    {
     "name": "stdout",
     "output_type": "stream",
     "text": [
      "10000/10000 [==============================] - 0s 26us/sample - loss: 0.0665 - acc: 0.9787\n"
     ]
    },
    {
     "data": {
      "text/plain": [
       "[0.06648708410989493, 0.9787]"
      ]
     },
     "execution_count": 5,
     "metadata": {},
     "output_type": "execute_result"
    }
   ],
   "source": [
    "model_1.evaluate(X_test_1,y_test_1)"
   ]
  },
  {
   "cell_type": "markdown",
   "metadata": {},
   "source": [
    "## Using tf.data.Dataset as inputs"
   ]
  },
  {
   "cell_type": "code",
   "execution_count": 6,
   "metadata": {},
   "outputs": [],
   "source": [
    "def preprocessing(img,label):\n",
    "    img = tf.cast(img,tf.float64)\n",
    "    img = img/255.\n",
    "    img = tf.expand_dims(img,axis=-1)\n",
    "    label = tf.one_hot(label,10,dtype=tf.int32)\n",
    "    return img,label"
   ]
  },
  {
   "cell_type": "code",
   "execution_count": 7,
   "metadata": {},
   "outputs": [
    {
     "name": "stdout",
     "output_type": "stream",
     "text": [
      "Epoch 1/10\n",
      "234/234 - 4s - loss: 0.4850 - acc: 0.8755 - val_loss: 0.3094 - val_acc: 0.9031\n",
      "Epoch 2/10\n",
      "234/234 - 4s - loss: 0.2355 - acc: 0.9343 - val_loss: 0.2263 - val_acc: 0.9336\n",
      "Epoch 3/10\n",
      "234/234 - 4s - loss: 0.1748 - acc: 0.9520 - val_loss: 0.1785 - val_acc: 0.9438\n",
      "Epoch 4/10\n",
      "234/234 - 4s - loss: 0.1359 - acc: 0.9633 - val_loss: 0.1505 - val_acc: 0.9539\n",
      "Epoch 5/10\n",
      "234/234 - 4s - loss: 0.1105 - acc: 0.9705 - val_loss: 0.1334 - val_acc: 0.9594\n",
      "Epoch 6/10\n",
      "234/234 - 4s - loss: 0.0942 - acc: 0.9744 - val_loss: 0.1206 - val_acc: 0.9625\n",
      "Epoch 7/10\n",
      "234/234 - 4s - loss: 0.0817 - acc: 0.9779 - val_loss: 0.1107 - val_acc: 0.9656\n",
      "Epoch 8/10\n",
      "234/234 - 4s - loss: 0.0728 - acc: 0.9798 - val_loss: 0.1037 - val_acc: 0.9695\n",
      "Epoch 9/10\n",
      "234/234 - 4s - loss: 0.0650 - acc: 0.9818 - val_loss: 0.0985 - val_acc: 0.9719\n",
      "Epoch 10/10\n",
      "234/234 - 4s - loss: 0.0595 - acc: 0.9833 - val_loss: 0.0960 - val_acc: 0.9727\n"
     ]
    },
    {
     "data": {
      "text/plain": [
       "<tensorflow.python.keras.callbacks.History at 0x62c95c550>"
      ]
     },
     "execution_count": 7,
     "metadata": {},
     "output_type": "execute_result"
    }
   ],
   "source": [
    "(X_train_2,y_train_2),(X_test_2,y_test_2) = tf.keras.datasets.mnist.load_data()\n",
    "\n",
    "train_ds = tf.data.Dataset.from_tensor_slices((X_train_2,y_train_2)).map(preprocessing).shuffle(256).batch(batch).repeat(epochs)\n",
    "test_ds = tf.data.Dataset.from_tensor_slices((X_test_2,y_test_2)).map(preprocessing).batch(batch).repeat(epochs)\n",
    "\n",
    "model_2 = build_cnn()\n",
    "model_2.compile(loss='categorical_crossentropy',optimizer='adam',metrics=['accuracy'])\n",
    "model_2.fit(train_ds,epochs=epochs,steps_per_epoch=len(X_train_2)//batch,validation_data=test_ds,validation_steps=5,verbose=2)"
   ]
  },
  {
   "cell_type": "code",
   "execution_count": 8,
   "metadata": {},
   "outputs": [
    {
     "name": "stdout",
     "output_type": "stream",
     "text": [
      "400/400 [==============================] - 5s 12ms/step - loss: 0.0731 - acc: 0.9773\n"
     ]
    },
    {
     "data": {
      "text/plain": [
       "[0.07309556936379522, 0.9773]"
      ]
     },
     "execution_count": 8,
     "metadata": {},
     "output_type": "execute_result"
    }
   ],
   "source": [
    "model_2.evaluate(test_ds)"
   ]
  },
  {
   "cell_type": "markdown",
   "metadata": {},
   "source": [
    "## tensorflow distributed training with Keras"
   ]
  },
  {
   "cell_type": "code",
   "execution_count": 9,
   "metadata": {},
   "outputs": [
    {
     "name": "stdout",
     "output_type": "stream",
     "text": [
      "[name: \"/device:CPU:0\"\n",
      "device_type: \"CPU\"\n",
      "memory_limit: 268435456\n",
      "locality {\n",
      "}\n",
      "incarnation: 4621682105683667972\n",
      "]\n"
     ]
    }
   ],
   "source": [
    "from tensorflow.python.client import device_lib\n",
    "print(device_lib.list_local_devices())"
   ]
  },
  {
   "cell_type": "code",
   "execution_count": 10,
   "metadata": {},
   "outputs": [
    {
     "name": "stdout",
     "output_type": "stream",
     "text": [
      "WARNING:tensorflow:Not all devices in `tf.distribute.Strategy` are visible to TensorFlow.\n",
      "\n",
      "number of replicas in sync: 1\n",
      "global batch: 256\n"
     ]
    }
   ],
   "source": [
    "(X_train_3,y_train_3),(X_test_3,y_test_3) = tf.keras.datasets.mnist.load_data()\n",
    "\n",
    "mirrored = tf.distribute.MirroredStrategy()\n",
    "print('\\nnumber of replicas in sync: {}'.format(mirrored.num_replicas_in_sync))\n",
    "\n",
    "batch_per_replica = batch\n",
    "global_batch = batch_per_replica * mirrored.num_replicas_in_sync\n",
    "print('global batch: {}'.format(global_batch))"
   ]
  },
  {
   "cell_type": "code",
   "execution_count": 11,
   "metadata": {},
   "outputs": [
    {
     "name": "stdout",
     "output_type": "stream",
     "text": [
      "INFO:tensorflow:Reduce to /replica:0/task:0/device:CPU:0 then broadcast to ('/replica:0/task:0/device:CPU:0',).\n",
      "INFO:tensorflow:Reduce to /replica:0/task:0/device:CPU:0 then broadcast to ('/replica:0/task:0/device:CPU:0',).\n",
      "INFO:tensorflow:Reduce to /replica:0/task:0/device:CPU:0 then broadcast to ('/replica:0/task:0/device:CPU:0',).\n",
      "INFO:tensorflow:Reduce to /replica:0/task:0/device:CPU:0 then broadcast to ('/replica:0/task:0/device:CPU:0',).\n",
      "INFO:tensorflow:Reduce to /replica:0/task:0/device:CPU:0 then broadcast to ('/replica:0/task:0/device:CPU:0',).\n",
      "INFO:tensorflow:Reduce to /replica:0/task:0/device:CPU:0 then broadcast to ('/replica:0/task:0/device:CPU:0',).\n",
      "INFO:tensorflow:Reduce to /replica:0/task:0/device:CPU:0 then broadcast to ('/replica:0/task:0/device:CPU:0',).\n",
      "INFO:tensorflow:Reduce to /replica:0/task:0/device:CPU:0 then broadcast to ('/replica:0/task:0/device:CPU:0',).\n",
      "INFO:tensorflow:Reduce to /replica:0/task:0/device:CPU:0 then broadcast to ('/replica:0/task:0/device:CPU:0',).\n",
      "INFO:tensorflow:Reduce to /replica:0/task:0/device:CPU:0 then broadcast to ('/replica:0/task:0/device:CPU:0',).\n",
      "WARNING:tensorflow:Expected a shuffled dataset but input dataset `x` is not shuffled. Please invoke `shuffle()` on input dataset.\n",
      "INFO:tensorflow:Reduce to /replica:0/task:0/device:CPU:0 then broadcast to ('/replica:0/task:0/device:CPU:0',).\n",
      "INFO:tensorflow:Reduce to /replica:0/task:0/device:CPU:0 then broadcast to ('/replica:0/task:0/device:CPU:0',).\n",
      "INFO:tensorflow:Reduce to /replica:0/task:0/device:CPU:0 then broadcast to ('/replica:0/task:0/device:CPU:0',).\n",
      "INFO:tensorflow:Reduce to /replica:0/task:0/device:CPU:0 then broadcast to ('/replica:0/task:0/device:CPU:0',).\n",
      "Epoch 1/10\n",
      "234/234 - 4s - loss: 0.4791 - acc: 0.8766 - val_loss: 0.2883 - val_acc: 0.9109\n",
      "Epoch 2/10\n",
      "234/234 - 3s - loss: 0.2102 - acc: 0.9413 - val_loss: 0.1877 - val_acc: 0.9461\n",
      "Epoch 3/10\n",
      "234/234 - 4s - loss: 0.1468 - acc: 0.9602 - val_loss: 0.1439 - val_acc: 0.9578\n",
      "Epoch 4/10\n",
      "234/234 - 3s - loss: 0.1135 - acc: 0.9700 - val_loss: 0.1249 - val_acc: 0.9648\n",
      "Epoch 5/10\n",
      "234/234 - 3s - loss: 0.0947 - acc: 0.9745 - val_loss: 0.1149 - val_acc: 0.9680\n",
      "Epoch 6/10\n",
      "234/234 - 3s - loss: 0.0824 - acc: 0.9780 - val_loss: 0.1065 - val_acc: 0.9680\n",
      "Epoch 7/10\n",
      "234/234 - 3s - loss: 0.0736 - acc: 0.9801 - val_loss: 0.1002 - val_acc: 0.9719\n",
      "Epoch 8/10\n",
      "234/234 - 3s - loss: 0.0672 - acc: 0.9819 - val_loss: 0.0983 - val_acc: 0.9680\n",
      "Epoch 9/10\n",
      "234/234 - 3s - loss: 0.0613 - acc: 0.9835 - val_loss: 0.0952 - val_acc: 0.9703\n",
      "Epoch 10/10\n",
      "234/234 - 3s - loss: 0.0563 - acc: 0.9850 - val_loss: 0.0963 - val_acc: 0.9703\n"
     ]
    },
    {
     "data": {
      "text/plain": [
       "<tensorflow.python.keras.callbacks.History at 0x6389d1940>"
      ]
     },
     "execution_count": 11,
     "metadata": {},
     "output_type": "execute_result"
    }
   ],
   "source": [
    "train_ds_dist = tf.data.Dataset.from_tensor_slices((X_train_3,y_train_3)).map(preprocessing).shuffle(256).batch(global_batch).repeat(epochs)\n",
    "test_ds_dist = tf.data.Dataset.from_tensor_slices((X_test_3,y_test_3)).map(preprocessing).batch(global_batch).repeat(epochs)\n",
    "\n",
    "with mirrored.scope():\n",
    "    model_3 = build_cnn()\n",
    "    model_3.compile(loss='categorical_crossentropy',optimizer='adam',metrics=['accuracy'])\n",
    "model_3.fit(train_ds_dist,epochs=epochs,steps_per_epoch=len(X_train_3)//batch,validation_data=test_ds_dist,validation_steps=5,verbose=2)"
   ]
  },
  {
   "cell_type": "code",
   "execution_count": 12,
   "metadata": {},
   "outputs": [
    {
     "name": "stdout",
     "output_type": "stream",
     "text": [
      "400/400 [==============================] - 5s 13ms/step - loss: 0.0772 - acc: 0.9756\n"
     ]
    },
    {
     "data": {
      "text/plain": [
       "[0.07716921950923279, 0.9756]"
      ]
     },
     "execution_count": 12,
     "metadata": {},
     "output_type": "execute_result"
    }
   ],
   "source": [
    "model_3.evaluate(test_ds_dist)"
   ]
  }
 ],
 "metadata": {
  "kernelspec": {
   "display_name": "Python 3",
   "language": "python",
   "name": "python3"
  },
  "language_info": {
   "codemirror_mode": {
    "name": "ipython",
    "version": 3
   },
   "file_extension": ".py",
   "mimetype": "text/x-python",
   "name": "python",
   "nbconvert_exporter": "python",
   "pygments_lexer": "ipython3",
   "version": "3.6.9"
  }
 },
 "nbformat": 4,
 "nbformat_minor": 2
}
