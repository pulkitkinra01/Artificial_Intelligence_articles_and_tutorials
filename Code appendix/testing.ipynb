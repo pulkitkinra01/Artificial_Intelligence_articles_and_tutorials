{
 "cells": [
  {
   "cell_type": "code",
   "execution_count": 1,
   "metadata": {},
   "outputs": [],
   "source": [
    "import tensorflow as tf\n",
    "import numpy as np"
   ]
  },
  {
   "cell_type": "code",
   "execution_count": 2,
   "metadata": {},
   "outputs": [],
   "source": [
    "epochs = 10\n",
    "batch = 256"
   ]
  },
  {
   "cell_type": "code",
   "execution_count": 3,
   "metadata": {},
   "outputs": [],
   "source": [
    "def build_cnn():\n",
    "    inputs = tf.keras.Input(shape=(28,28,1))\n",
    "    x = tf.keras.layers.Conv2D(8,(3,3),padding='same',activation='relu')(inputs)\n",
    "    x = tf.keras.layers.Flatten()(x)\n",
    "    outputs = tf.keras.layers.Dense(10,activation='softmax')(x)\n",
    "    model = tf.keras.Model(inputs,outputs)\n",
    "    return model"
   ]
  },
  {
   "cell_type": "markdown",
   "metadata": {},
   "source": [
    "## Using numpy array as inputs"
   ]
  },
  {
   "cell_type": "code",
   "execution_count": 4,
   "metadata": {},
   "outputs": [
    {
     "name": "stdout",
     "output_type": "stream",
     "text": [
      "WARNING:tensorflow:From /Users/seanchoi/anaconda3/envs/cv/lib/python3.6/site-packages/tensorflow/python/ops/init_ops.py:1251: calling VarianceScaling.__init__ (from tensorflow.python.ops.init_ops) with dtype is deprecated and will be removed in a future version.\n",
      "Instructions for updating:\n",
      "Call initializer instance with the dtype argument instead of passing it to the constructor\n",
      "Train on 60000 samples, validate on 10000 samples\n",
      "Epoch 1/10\n",
      "60000/60000 - 2s - loss: 0.4546 - acc: 0.8805 - val_loss: 0.2198 - val_acc: 0.9382\n",
      "Epoch 2/10\n",
      "60000/60000 - 2s - loss: 0.1915 - acc: 0.9468 - val_loss: 0.1539 - val_acc: 0.9569\n",
      "Epoch 3/10\n",
      "60000/60000 - 2s - loss: 0.1375 - acc: 0.9621 - val_loss: 0.1174 - val_acc: 0.9663\n",
      "Epoch 4/10\n",
      "60000/60000 - 2s - loss: 0.1105 - acc: 0.9700 - val_loss: 0.1022 - val_acc: 0.9704\n",
      "Epoch 5/10\n",
      "60000/60000 - 2s - loss: 0.0929 - acc: 0.9743 - val_loss: 0.0925 - val_acc: 0.9726\n",
      "Epoch 6/10\n",
      "60000/60000 - 2s - loss: 0.0807 - acc: 0.9782 - val_loss: 0.0823 - val_acc: 0.9746\n",
      "Epoch 7/10\n",
      "60000/60000 - 2s - loss: 0.0699 - acc: 0.9807 - val_loss: 0.0803 - val_acc: 0.9753\n",
      "Epoch 8/10\n",
      "60000/60000 - 2s - loss: 0.0636 - acc: 0.9822 - val_loss: 0.0726 - val_acc: 0.9781\n",
      "Epoch 9/10\n",
      "60000/60000 - 2s - loss: 0.0567 - acc: 0.9844 - val_loss: 0.0738 - val_acc: 0.9769\n",
      "Epoch 10/10\n",
      "60000/60000 - 2s - loss: 0.0514 - acc: 0.9855 - val_loss: 0.0665 - val_acc: 0.9787\n"
     ]
    },
    {
     "data": {
      "text/plain": [
       "<tensorflow.python.keras.callbacks.History at 0x62c6eae80>"
      ]
     },
     "execution_count": 4,
     "metadata": {},
     "output_type": "execute_result"
    }
   ],
   "source": [
    "(X_train_1,y_train_1),(X_test_1,y_test_1) = tf.keras.datasets.mnist.load_data()\n",
    "X_train_1 = X_train_1.astype(np.float32)/255.\n",
    "X_train_1 = np.expand_dims(X_train_1,axis=-1)\n",
    "X_test_1 = X_test_1.astype(np.float32)/255.\n",
    "X_test_1 = np.expand_dims(X_test_1,axis=-1)\n",
    "y_train_1 = tf.keras.utils.to_categorical(y_train_1,10)\n",
    "y_test_1 = tf.keras.utils.to_categorical(y_test_1,10)\n",
    "\n",
    "model_1 = build_cnn()\n",
    "model_1.compile(loss='categorical_crossentropy',optimizer='adam',metrics=['accuracy'])\n",
    "model_1.fit(X_train_1,y_train_1,epochs=epochs,batch_size=batch,validation_data=(X_test_1,y_test_1),verbose=2)"
   ]
  },
  {
   "cell_type": "code",
   "execution_count": 5,
   "metadata": {},
   "outputs": [
    {
     "name": "stdout",
     "output_type": "stream",
     "text": [
      "10000/10000 [==============================] - 0s 26us/sample - loss: 0.0665 - acc: 0.9787\n"
     ]
    },
    {
     "data": {
      "text/plain": [
       "[0.06648708410989493, 0.9787]"
      ]
     },
     "execution_count": 5,
     "metadata": {},
     "output_type": "execute_result"
    }
   ],
   "source": [
    "model_1.evaluate(X_test_1,y_test_1)"
   ]
  },
  {
   "cell_type": "markdown",
   "metadata": {},
   "source": [
    "## Using tf.data.Dataset as inputs"
   ]
  },
  {
   "cell_type": "code",
   "execution_count": 12,
   "metadata": {},
   "outputs": [],
   "source": [
    "def preprocessing(img,label):\n",
    "    img = tf.cast(img,tf.float64)\n",
    "    img = img/255.\n",
    "    img = tf.expand_dims(img,axis=-1)\n",
    "    label = tf.one_hot(label,10,dtype=tf.int32)\n",
    "    return img,label"
   ]
  },
  {
   "cell_type": "code",
   "execution_count": 13,
   "metadata": {},
   "outputs": [],
   "source": [
    "(X_train_2,y_train_2),(X_test_2,y_test_2) = tf.keras.datasets.mnist.load_data()\n",
    "\n",
    "train_ds = tf.data.Dataset.from_tensor_slices((X_train_2,y_train_2)).map(preprocessing,num_parallel_calls=tf.data.experimental.AUTOTUNE).shuffle(256).batch(batch).repeat(epochs).prefetch(buffer_size=tf.data.experimental.AUTOTUNE)\n",
    "test_ds = tf.data.Dataset.from_tensor_slices((X_test_2,y_test_2)).map(preprocessing,num_parallel_calls=tf.data.experimental.AUTOTUNE).batch(batch).repeat(epochs).prefetch(buffer_size=tf.data.experimental.AUTOTUNE)"
   ]
  },
  {
   "cell_type": "code",
   "execution_count": 14,
   "metadata": {},
   "outputs": [
    {
     "name": "stdout",
     "output_type": "stream",
     "text": [
      "Epoch 1/10\n",
      "234/234 - 6s - loss: 0.4722 - acc: 0.8755 - val_loss: 0.2976 - val_acc: 0.9086\n",
      "Epoch 2/10\n",
      "234/234 - 2s - loss: 0.2213 - acc: 0.9374 - val_loss: 0.2078 - val_acc: 0.9344\n",
      "Epoch 3/10\n",
      "234/234 - 3s - loss: 0.1595 - acc: 0.9554 - val_loss: 0.1617 - val_acc: 0.9547\n",
      "Epoch 4/10\n",
      "234/234 - 3s - loss: 0.1249 - acc: 0.9659 - val_loss: 0.1393 - val_acc: 0.9547\n",
      "Epoch 5/10\n",
      "234/234 - 3s - loss: 0.1040 - acc: 0.9719 - val_loss: 0.1257 - val_acc: 0.9625\n",
      "Epoch 6/10\n",
      "234/234 - 3s - loss: 0.0902 - acc: 0.9757 - val_loss: 0.1172 - val_acc: 0.9664\n",
      "Epoch 7/10\n",
      "234/234 - 3s - loss: 0.0792 - acc: 0.9782 - val_loss: 0.1112 - val_acc: 0.9672\n",
      "Epoch 8/10\n",
      "234/234 - 3s - loss: 0.0720 - acc: 0.9800 - val_loss: 0.1048 - val_acc: 0.9680\n",
      "Epoch 9/10\n",
      "234/234 - 3s - loss: 0.0648 - acc: 0.9819 - val_loss: 0.1033 - val_acc: 0.9695\n",
      "Epoch 10/10\n",
      "234/234 - 3s - loss: 0.0594 - acc: 0.9836 - val_loss: 0.1008 - val_acc: 0.9695\n"
     ]
    },
    {
     "data": {
      "text/plain": [
       "<tensorflow.python.keras.callbacks.History at 0x6381dee10>"
      ]
     },
     "execution_count": 14,
     "metadata": {},
     "output_type": "execute_result"
    }
   ],
   "source": [
    "model_2 = build_cnn()\n",
    "model_2.compile(loss='categorical_crossentropy',optimizer='adam',metrics=['accuracy'])\n",
    "model_2.fit(train_ds,epochs=epochs,steps_per_epoch=len(X_train_2)//batch,validation_data=test_ds,validation_steps=5,verbose=2)"
   ]
  },
  {
   "cell_type": "code",
   "execution_count": 8,
   "metadata": {},
   "outputs": [
    {
     "name": "stdout",
     "output_type": "stream",
     "text": [
      "400/400 [==============================] - 5s 12ms/step - loss: 0.0731 - acc: 0.9773\n"
     ]
    },
    {
     "data": {
      "text/plain": [
       "[0.07309556936379522, 0.9773]"
      ]
     },
     "execution_count": 8,
     "metadata": {},
     "output_type": "execute_result"
    }
   ],
   "source": [
    "model_2.evaluate(test_ds)"
   ]
  },
  {
   "cell_type": "markdown",
   "metadata": {},
   "source": [
    "## tensorflow distributed training with Keras"
   ]
  },
  {
   "cell_type": "code",
   "execution_count": 15,
   "metadata": {},
   "outputs": [
    {
     "name": "stdout",
     "output_type": "stream",
     "text": [
      "[name: \"/device:CPU:0\"\n",
      "device_type: \"CPU\"\n",
      "memory_limit: 268435456\n",
      "locality {\n",
      "}\n",
      "incarnation: 17055773852347534877\n",
      "]\n"
     ]
    }
   ],
   "source": [
    "from tensorflow.python.client import device_lib\n",
    "print(device_lib.list_local_devices())"
   ]
  },
  {
   "cell_type": "code",
   "execution_count": 16,
   "metadata": {},
   "outputs": [
    {
     "name": "stdout",
     "output_type": "stream",
     "text": [
      "WARNING:tensorflow:Not all devices in `tf.distribute.Strategy` are visible to TensorFlow.\n",
      "\n",
      "number of replicas in sync: 1\n",
      "global batch: 256\n"
     ]
    }
   ],
   "source": [
    "(X_train_3,y_train_3),(X_test_3,y_test_3) = tf.keras.datasets.mnist.load_data()\n",
    "\n",
    "mirrored = tf.distribute.MirroredStrategy()\n",
    "print('\\nnumber of replicas in sync: {}'.format(mirrored.num_replicas_in_sync))\n",
    "\n",
    "batch_per_replica = batch\n",
    "global_batch = batch_per_replica * mirrored.num_replicas_in_sync\n",
    "print('global batch: {}'.format(global_batch))"
   ]
  },
  {
   "cell_type": "code",
   "execution_count": 17,
   "metadata": {},
   "outputs": [
    {
     "name": "stdout",
     "output_type": "stream",
     "text": [
      "INFO:tensorflow:Reduce to /replica:0/task:0/device:CPU:0 then broadcast to ('/replica:0/task:0/device:CPU:0',).\n",
      "INFO:tensorflow:Reduce to /replica:0/task:0/device:CPU:0 then broadcast to ('/replica:0/task:0/device:CPU:0',).\n",
      "INFO:tensorflow:Reduce to /replica:0/task:0/device:CPU:0 then broadcast to ('/replica:0/task:0/device:CPU:0',).\n",
      "INFO:tensorflow:Reduce to /replica:0/task:0/device:CPU:0 then broadcast to ('/replica:0/task:0/device:CPU:0',).\n",
      "INFO:tensorflow:Reduce to /replica:0/task:0/device:CPU:0 then broadcast to ('/replica:0/task:0/device:CPU:0',).\n",
      "INFO:tensorflow:Reduce to /replica:0/task:0/device:CPU:0 then broadcast to ('/replica:0/task:0/device:CPU:0',).\n",
      "INFO:tensorflow:Reduce to /replica:0/task:0/device:CPU:0 then broadcast to ('/replica:0/task:0/device:CPU:0',).\n",
      "INFO:tensorflow:Reduce to /replica:0/task:0/device:CPU:0 then broadcast to ('/replica:0/task:0/device:CPU:0',).\n",
      "INFO:tensorflow:Reduce to /replica:0/task:0/device:CPU:0 then broadcast to ('/replica:0/task:0/device:CPU:0',).\n",
      "INFO:tensorflow:Reduce to /replica:0/task:0/device:CPU:0 then broadcast to ('/replica:0/task:0/device:CPU:0',).\n",
      "WARNING:tensorflow:Expected a shuffled dataset but input dataset `x` is not shuffled. Please invoke `shuffle()` on input dataset.\n",
      "INFO:tensorflow:Reduce to /replica:0/task:0/device:CPU:0 then broadcast to ('/replica:0/task:0/device:CPU:0',).\n",
      "INFO:tensorflow:Reduce to /replica:0/task:0/device:CPU:0 then broadcast to ('/replica:0/task:0/device:CPU:0',).\n",
      "INFO:tensorflow:Reduce to /replica:0/task:0/device:CPU:0 then broadcast to ('/replica:0/task:0/device:CPU:0',).\n",
      "INFO:tensorflow:Reduce to /replica:0/task:0/device:CPU:0 then broadcast to ('/replica:0/task:0/device:CPU:0',).\n",
      "Epoch 1/10\n",
      "234/234 - 13s - loss: 0.5405 - acc: 0.8687 - val_loss: 0.2598 - val_acc: 0.9187\n",
      "Epoch 2/10\n",
      "234/234 - 4s - loss: 0.1787 - acc: 0.9503 - val_loss: 0.1675 - val_acc: 0.9492\n",
      "Epoch 3/10\n",
      "234/234 - 4s - loss: 0.1220 - acc: 0.9668 - val_loss: 0.1311 - val_acc: 0.9602\n",
      "Epoch 4/10\n",
      "234/234 - 5s - loss: 0.0939 - acc: 0.9747 - val_loss: 0.1156 - val_acc: 0.9656\n",
      "Epoch 5/10\n",
      "234/234 - 5s - loss: 0.0775 - acc: 0.9788 - val_loss: 0.1054 - val_acc: 0.9672\n",
      "Epoch 6/10\n",
      "234/234 - 5s - loss: 0.0664 - acc: 0.9819 - val_loss: 0.0996 - val_acc: 0.9695\n",
      "Epoch 7/10\n",
      "234/234 - 5s - loss: 0.0580 - acc: 0.9839 - val_loss: 0.0962 - val_acc: 0.9711\n",
      "Epoch 8/10\n",
      "234/234 - 5s - loss: 0.0514 - acc: 0.9857 - val_loss: 0.0914 - val_acc: 0.9719\n",
      "Epoch 9/10\n",
      "234/234 - 5s - loss: 0.0468 - acc: 0.9871 - val_loss: 0.0912 - val_acc: 0.9719\n",
      "Epoch 10/10\n",
      "234/234 - 3s - loss: 0.0424 - acc: 0.9886 - val_loss: 0.0893 - val_acc: 0.9750\n"
     ]
    },
    {
     "data": {
      "text/plain": [
       "<tensorflow.python.keras.callbacks.History at 0x659b34fd0>"
      ]
     },
     "execution_count": 17,
     "metadata": {},
     "output_type": "execute_result"
    }
   ],
   "source": [
    "train_ds_dist = tf.data.Dataset.from_tensor_slices((X_train_3,y_train_3)).map(preprocessing,num_parallel_calls=tf.data.experimental.AUTOTUNE).shuffle(256).batch(global_batch).repeat(epochs).prefetch(buffer_size=tf.data.experimental.AUTOTUNE)\n",
    "test_ds_dist = tf.data.Dataset.from_tensor_slices((X_test_3,y_test_3)).map(preprocessing,num_parallel_calls=tf.data.experimental.AUTOTUNE).batch(global_batch).repeat(epochs).prefetch(buffer_size=tf.data.experimental.AUTOTUNE)\n",
    "\n",
    "with mirrored.scope():\n",
    "    model_3 = build_cnn()\n",
    "    model_3.compile(loss='categorical_crossentropy',optimizer='adam',metrics=['accuracy'])\n",
    "model_3.fit(train_ds_dist,epochs=epochs,steps_per_epoch=len(X_train_3)//batch,validation_data=test_ds_dist,validation_steps=5,verbose=2)"
   ]
  },
  {
   "cell_type": "code",
   "execution_count": 12,
   "metadata": {},
   "outputs": [
    {
     "name": "stdout",
     "output_type": "stream",
     "text": [
      "400/400 [==============================] - 5s 13ms/step - loss: 0.0772 - acc: 0.9756\n"
     ]
    },
    {
     "data": {
      "text/plain": [
       "[0.07716921950923279, 0.9756]"
      ]
     },
     "execution_count": 12,
     "metadata": {},
     "output_type": "execute_result"
    }
   ],
   "source": [
    "model_3.evaluate(test_ds_dist)"
   ]
  }
 ],
 "metadata": {
  "kernelspec": {
   "display_name": "Python 3",
   "language": "python",
   "name": "python3"
  },
  "language_info": {
   "codemirror_mode": {
    "name": "ipython",
    "version": 3
   },
   "file_extension": ".py",
   "mimetype": "text/x-python",
   "name": "python",
   "nbconvert_exporter": "python",
   "pygments_lexer": "ipython3",
   "version": "3.6.9"
  }
 },
 "nbformat": 4,
 "nbformat_minor": 2
}
